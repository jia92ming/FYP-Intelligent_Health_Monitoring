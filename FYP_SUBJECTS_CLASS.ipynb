{
 "cells": [
  {
   "cell_type": "markdown",
   "metadata": {},
   "source": [
    "# Final Year Project - Intelligent Health Monitoring System\n",
    "#### by: Koo Chia Meng, A0165275Y"
   ]
  },
  {
   "cell_type": "markdown",
   "metadata": {},
   "source": [
    "### Creating Object Class for subjects\n",
    "Since the data would be gathered from a few people, it would be neater to put them as objects in Object Oriented Programming (OOP). \n",
    "\n",
    "The below code cells are copied from the Data Acqusition, Cleaning Jupyter Notebook. The purpose is to allow importing of class into other Notebooks."
   ]
  },
  {
   "cell_type": "markdown",
   "metadata": {},
   "source": [
    "### Definining Functions to be declared as methods"
   ]
  },
  {
   "cell_type": "code",
   "execution_count": 1,
   "metadata": {},
   "outputs": [],
   "source": [
    "# Creating Functions to be used for the script\n",
    "\n",
    "def Fitbit_Authorise(client_id,client_secret,redirect_uri):\n",
    "    \n",
    "    Fitbit_Auth_URL = 'https://www.fitbit.com/oauth2/authorize'\n",
    "    Fitbit_token_URL = 'https://api.fitbit.com/oauth2/token'\n",
    "    \n",
    "    # Initialize client\n",
    "    scope = [\"activity\", \"heartrate\", \"profile\", \"sleep\", \"weight\"] # Specify required data authorisation\n",
    "    oauth = requests_oauthlib.OAuth2Session(client_id, redirect_uri=redirect_uri, scope=scope)\n",
    "\n",
    "    # Fetching URL for the relevant Autourisation page so that users can log in with browser.\n",
    "    authorization_url, state = oauth.authorization_url(Fitbit_Auth_URL)\n",
    "    \n",
    "    webbrowser.open_new(authorization_url) #direct user to log in\n",
    "        \n",
    "    print('Broweser will call this URL (send this to the subject): '+ authorization_url)\n",
    "    \n",
    "    Auth_response = input(' Copy & Paste the full callback URL:') # Ask user to input the return URL\n",
    "\n",
    "    token = oauth.fetch_token(Fitbit_token_URL, client_secret=client_secret,authorization_response='https://'+Auth_response)\n",
    "\n",
    "    return (token)\n",
    "\n",
    "def Withings_Authorise(client_id,client_secret,redirect_uri):\n",
    "\n",
    "    Withings_Auth_URL = 'https://account.withings.com/oauth2_user/authorize2'\n",
    "    Withings_token_URL = 'https://account.withings.com/oauth2/token'\n",
    "    \n",
    "    scope_wt = [\"user.activity\"] # Specify required data authorisation\n",
    "    oauth_wt = requests_oauthlib.OAuth2Session(client_id, redirect_uri=redirect_uri, scope=scope_wt)\n",
    "    \n",
    "    # Fetching URL for the relevant Autourisation page so that users can log in with browser.\n",
    "    authorization_url_wt, state = oauth_wt.authorization_url(Withings_Auth_URL)\n",
    "    \n",
    "    webbrowser.open_new(authorization_url_wt) #direct user to log in to grant permission\n",
    "    \n",
    "    Auth_response_wt = input(' Copy & Paste the full callback URL:') # Ask user to input the return URL\n",
    "\n",
    "# !!! NOT WORKING !!!\n",
    "#     token_wt = oauth_wt.fetch_token(Withings_token_URL,client_id=client_id,client_secret=client_secret,authorization_response='https://'+Auth_response_wt)\n",
    "    \n",
    "    # Have to use the Manual post method defined above\n",
    "    token_wt = fetch_withings_token(Auth_response_wt,Withings_token_URL,client_id,client_secret,redirect_uri)\n",
    "    \n",
    "    return (token_wt)\n",
    "\n",
    "\n",
    "# ONLY USE WHEN REQUIRED!!!\n",
    "\n",
    "# REFRESH TOKEN\n",
    "def Refresh_Token_Fitbit(token):\n",
    "    HEADERS = {'Authorization':'Bearer '+token['access_token'], \n",
    "               'Content-Type':'application/x-www-form-urlencoded'} \n",
    "    PARAMS = {'grant_type':'refresh_token','refresh_token':token['refresh_token']}\n",
    "    Fitbit_Refresh_Token_API = 'https://api.fitbit.com/oauth2/token'\n",
    "    \n",
    "    # sending get request and saving the response as response object \n",
    "    r = requests.post(Fitbit_Refresh_Token_API,headers=HEADERS,data=PARAMS) \n",
    "    return r.json()"
   ]
  },
  {
   "cell_type": "markdown",
   "metadata": {},
   "source": [
    "### [ FITBIT ] Fetching Data From  API:"
   ]
  },
  {
   "cell_type": "markdown",
   "metadata": {},
   "source": [
    "##### Profiles [Note! The details in the profile are input by the user, might not be correct]:"
   ]
  },
  {
   "cell_type": "code",
   "execution_count": 2,
   "metadata": {},
   "outputs": [],
   "source": [
    "#Fetch Profile details\n",
    "\n",
    "def Fetch_Profile_Fitbit(input_token):\n",
    "    HEADERS = {'Authorization':'Bearer '+ input_token['access_token']} \n",
    "    Fitbit_Profile_API = 'https://api.fitbit.com/1/user/'+ input_token['user_id']+'/profile.json'\n",
    "    # sending get request and saving the response as response object \n",
    "    r = requests.get(Fitbit_Profile_API,headers=HEADERS) \n",
    "    \n",
    "    extract = {}\n",
    "    data = r.json()['user']\n",
    "    \n",
    "    # extracting data in JSON format \n",
    "    detail = ['age','gender','height','weight']\n",
    "    \n",
    "    for i in detail:\n",
    "        extract[i] = data[i]\n",
    "        \n",
    "    return extract"
   ]
  },
  {
   "cell_type": "markdown",
   "metadata": {},
   "source": [
    "##### Heart Rate per day:"
   ]
  },
  {
   "cell_type": "code",
   "execution_count": 3,
   "metadata": {
    "scrolled": true
   },
   "outputs": [],
   "source": [
    "# Fetching HR Data from FITBIT\n",
    "\n",
    "def Fetch_HR_Fitbit(date1,date2,token):\n",
    "    HEADERS = {'Authorization':'Bearer '+ token['access_token']} \n",
    "    Fitbit_HR_API = 'https://api.fitbit.com/1/user/'+token['user_id']+'/activities/heart/date/'+date1+'/'+date2+'.json'\n",
    "\n",
    "    # sending get request and saving the response as response object \n",
    "    r = requests.get(Fitbit_HR_API,headers=HEADERS) \n",
    "\n",
    "    # extracting data in JSON format \n",
    "    return r.json()['activities-heart']\n"
   ]
  },
  {
   "cell_type": "markdown",
   "metadata": {},
   "source": [
    "##### Intra - Day Heart Rate: (THE API ONLY WORKS IF YOU FETCH 1 DAY AT A TIME!!!)"
   ]
  },
  {
   "cell_type": "code",
   "execution_count": 4,
   "metadata": {
    "scrolled": true
   },
   "outputs": [],
   "source": [
    "# Fetching INTRADAY HR Data from FITBIT (By per Minute '1min' or per Second '1sec')\n",
    "# NOTE THE DATE DATE RANGE TO PREVENT LONG RUNNING SCRIPT!!!\n",
    "\n",
    "def Fetch_Intra_Day_HR_Fibit(date1,date2,token):\n",
    "    \n",
    "    start_date = datetime.datetime.strptime(date1,\"%Y-%m-%d\") \n",
    "    end_date = datetime.datetime.strptime(date2,\"%Y-%m-%d\")\n",
    "    \n",
    "    date_range = pd.date_range(start=start_date,end=end_date).to_pydatetime().tolist()\n",
    "    str_date_range = [datetime.datetime.strftime(x,\"%Y-%m-%d\") for x in date_range]\n",
    "\n",
    "    HEADERS = {'Authorization':'Bearer '+ token['access_token']} \n",
    "    # Fitbit_Intra_HR_API = 'https://api.fitbit.com/1/user/'+token['user_id']+'/activities/heart/date/'+date1+'/1d/1min.json'\n",
    "\n",
    "    data_Intra_HR_fitbit_Dict = {}\n",
    "\n",
    "    for d in str_date_range:\n",
    "\n",
    "        Fitbit_Intra_HR_API = 'https://api.fitbit.com/1/user/'+ token['user_id']+'/activities/heart/date/'+str(d)+'/1d/1sec.json'\n",
    "\n",
    "        # sending get request and saving the response as response object \n",
    "        r = requests.get(Fitbit_Intra_HR_API,headers=HEADERS) \n",
    "\n",
    "        # extracting data in JSON format \n",
    "        data_Intra_HR_fitbit_Dict[d] = r.json()['activities-heart-intraday']\n",
    "    \n",
    "    return data_Intra_HR_fitbit_Dict"
   ]
  },
  {
   "cell_type": "markdown",
   "metadata": {},
   "source": [
    "##### Sleep per day:"
   ]
  },
  {
   "cell_type": "code",
   "execution_count": 5,
   "metadata": {
    "scrolled": true
   },
   "outputs": [],
   "source": [
    "# Fetching Sleep Data from FITBIT\n",
    "\n",
    "def Fetch_Sleep_Fitbit(date1,date2,token):\n",
    "    HEADERS = {'Authorization':'Bearer '+ token['access_token']} \n",
    "    Fitbit_Sleep_API = 'https://api.fitbit.com/1.2/user/'+ token['user_id']+'/sleep/date/'+date1+'/'+date2+'.json'\n",
    "\n",
    "    # sending get request and saving the response as response object \n",
    "    r = requests.get(Fitbit_Sleep_API,headers=HEADERS) \n",
    "\n",
    "    # extracting data in JSON format \n",
    "    return r.json()['sleep']\n"
   ]
  },
  {
   "cell_type": "markdown",
   "metadata": {},
   "source": [
    "##### Activity (Steps) per day:"
   ]
  },
  {
   "cell_type": "code",
   "execution_count": 6,
   "metadata": {
    "scrolled": true
   },
   "outputs": [],
   "source": [
    "# Fetching Steps Data from FITBIT\n",
    "\n",
    "def Fetch_Step_Activity_Fitbit(date1,date2,token):\n",
    "    HEADERS = {'Authorization':'Bearer '+ token['access_token']} \n",
    "    Fitbit_Activity_Steps_API = 'https://api.fitbit.com/1/user/'+ token['user_id']+'/activities/tracker/steps/date/'+date1+'/'+date2+'.json'\n",
    "\n",
    "    # sending get request and saving the response as response object \n",
    "    r = requests.get(Fitbit_Activity_Steps_API,headers=HEADERS) \n",
    "\n",
    "    # extracting data in JSON format \n",
    "    return r.json()['activities-tracker-steps']\n"
   ]
  },
  {
   "cell_type": "markdown",
   "metadata": {},
   "source": [
    "### SUBJECT CLASS"
   ]
  },
  {
   "cell_type": "code",
   "execution_count": 7,
   "metadata": {},
   "outputs": [],
   "source": [
    "# Creating class for test subjects, since the data collected would be from several people. \n",
    "\n",
    "class DATA():\n",
    "    def __init__(self):\n",
    "        self.profile = None        \n",
    "        self.heart_data = None\n",
    "        self.intra_heart_data = None\n",
    "        self.sleep_data = None\n",
    "        self.step_activity_data = None\n",
    "\n",
    "class SUBJECT(DATA):\n",
    "    def __init__(self,tracker):\n",
    "        self.tracker = tracker\n",
    "        self.last_fetch = None\n",
    "        self.token = None\n",
    "    \n",
    "# Related Methods: Authorise, fetch datas. these methods will cater for both fitbit and withings.\n",
    "    def Authorise(self,client_id,client_secret,redirect_uri):\n",
    "        error_exist = True\n",
    "        if self.tracker == 'fitbit':\n",
    "            try:\n",
    "                self.token = Fitbit_Authorise(client_id,client_secret,redirect_uri)\n",
    "                error_exist = False\n",
    "            except Exception as e:\n",
    "                error_exist = True\n",
    "                print (type(e),str(e))\n",
    "        elif self.tracker == 'withings':\n",
    "            try:\n",
    "                self.token = Withings_Authorise(client_id,client_secret,redirect_uri)\n",
    "                error_exist = False\n",
    "            except Exception as e:\n",
    "                error_exist = True\n",
    "                print (type(e), str(e))\n",
    "        if error_exist: \n",
    "            print('Authourisation Failed. Please Check Inputs Again.')\n",
    "        else: print('Success!')\n",
    "\n",
    "    def Refresh_Token(self):    \n",
    "        error_exist = True\n",
    "        if self.tracker == 'fitbit':\n",
    "            try:\n",
    "                self.token = Refresh_Token_Fitbit(self.token)\n",
    "                error_exist = False\n",
    "            except Exception as e:\n",
    "                error_exist = True\n",
    "                print (type(e), str(e))\n",
    "        elif self.tracker == 'withings':\n",
    "            try:\n",
    "                pass\n",
    "                error_exist = False\n",
    "            except Exception as e:\n",
    "                error_exist = True\n",
    "                print (type(e), str(e))\n",
    "        if error_exist: \n",
    "            print('Authourisation Failed. Please Check Inputs Again.')\n",
    "        else: print('Success!')\n",
    "\n",
    "    def Fetch_Profile(self):                \n",
    "        error_exist = True\n",
    "        \n",
    "        if self.tracker == 'fitbit':\n",
    "            try:\n",
    "                self.profile = Fetch_Profile_Fitbit(self.token)\n",
    "                error_exist = False\n",
    "            except:\n",
    "                error_exist = True\n",
    "        elif self.tracker == 'withings':\n",
    "            try:\n",
    "                pass\n",
    "                error_exist = False\n",
    "            except Exception as e:\n",
    "                error_exist = True\n",
    "        if error_exist: \n",
    "            print('Process Failed. Please Check Inputs or Authorisation Again.')\n",
    "        else: print('Success!')\n",
    "           \n",
    "    def Fetch_HR_Data(self,date1,date2):                \n",
    "        error_exist = True\n",
    "        \n",
    "        if self.tracker == 'fitbit':\n",
    "            try:\n",
    "                self.heart_data = Fetch_HR_Fitbit(date1,date2,self.token)\n",
    "                error_exist = False\n",
    "            except Exception as e:\n",
    "                error_exist = True\n",
    "                print (type(e), str(e))\n",
    "        elif self.tracker == 'withings':\n",
    "            try:\n",
    "                pass\n",
    "                error_exist = False\n",
    "            except Exception as e:\n",
    "                error_exist = True\n",
    "                print (type(e), str(e))\n",
    "        if error_exist: \n",
    "            print('Process Failed. Please Check Inputs or Authorisation Again.')\n",
    "        else: print('Success!')\n",
    "            \n",
    "    def Fetch_IntraDayHR_Data(self,date1,date2):                \n",
    "        error_exist = True\n",
    "        \n",
    "        if self.tracker == 'fitbit':\n",
    "            try:\n",
    "                self.intra_heart_data = Fetch_Intra_Day_HR_Fibit(date1,date2,self.token)\n",
    "                error_exist = False\n",
    "            except Exception as e:\n",
    "                error_exist = True\n",
    "                print (type(e), str(e))\n",
    "        elif self.tracker == 'withings':\n",
    "            try:\n",
    "                pass\n",
    "                error_exist = False\n",
    "            except Exception as e:\n",
    "                error_exist = True\n",
    "                print (type(e), str(e))\n",
    "        if error_exist: \n",
    "            print('Process Failed. Please Check Inputs or Authorisation Again.')\n",
    "        else: print('Success!')\n",
    "            \n",
    "    def Fetch_Sleep_Data(self,date1,date2):                \n",
    "        error_exist = True\n",
    "        \n",
    "        if self.tracker == 'fitbit':\n",
    "            try:\n",
    "                self.sleep_data = Fetch_Sleep_Fitbit(date1,date2,self.token)\n",
    "                error_exist = False\n",
    "            except Exception as e:\n",
    "                error_exist = True\n",
    "                print (type(e),str(e))\n",
    "        elif self.tracker == 'withings':\n",
    "            try:\n",
    "                pass\n",
    "                error_exist = False\n",
    "            except Exception as e:\n",
    "                error_exist = True\n",
    "                print (type(e),str(e))\n",
    "        if error_exist: \n",
    "            print('Process Failed. Please Check Inputs or Authorisation Again. \\nThe time frame might be too long to fetch, consider cutting it to one month.')\n",
    "        else: print('Success!')\n",
    "\n",
    "    def Fetch_Step_Activity_Data(self,date1,date2):                \n",
    "        error_exist = True\n",
    "        \n",
    "        if self.tracker == 'fitbit':\n",
    "            try:\n",
    "                self.step_activity_data = Fetch_Step_Activity_Fitbit(date1,date2,self.token)\n",
    "                error_exist = False\n",
    "            except Exception as e:\n",
    "                error_exist = True\n",
    "                print (type(e),str(e))\n",
    "        elif self.tracker == 'withings':\n",
    "            try:\n",
    "                pass\n",
    "                error_exist = False\n",
    "            except Exception as e:\n",
    "                error_exist = True\n",
    "                print (type(e),str(e))\n",
    "        if error_exist: \n",
    "            print('Process Failed. Please Check Inputs or Authorisation Again.')\n",
    "        else: print('Success!')\n",
    "            "
   ]
  },
  {
   "cell_type": "markdown",
   "metadata": {},
   "source": [
    "### [ WITHINGS ] Fetching API Data:"
   ]
  },
  {
   "cell_type": "code",
   "execution_count": 8,
   "metadata": {},
   "outputs": [],
   "source": [
    "# #Specifying Client ID and Client Secret from Withings\n",
    "# CLIENT_ID_WIT = 'd38f63b6f9f8e1825e646c849fc8f2c62667d781cf86de79a20168ca5bca04c1'\n",
    "# CLIENT_SECRET_WIT = 'a272d1bba681026fec24023fdbd56698e9161dbbe031bd05998d3a1e0dc61cb4'\n",
    "# CALL_BACK_URL = 'http://127.0.0.1:8080/'\n",
    "\n",
    "# token_wit = Withings_Authorise(CLIENT_ID_WIT,CLIENT_SECRET_WIT,CALL_BACK_URL)\n",
    "\n",
    "# print (token_wit)"
   ]
  },
  {
   "cell_type": "code",
   "execution_count": 9,
   "metadata": {},
   "outputs": [],
   "source": [
    "# date1 = \"2020-02-19\"\n",
    "# date2 = str(datetime.datetime.now().strftime(\"%Y-%m-%d\"))\n",
    "\n",
    "# HEADERS = {'Authorization':'Bearer '+token_wit['access_token']} \n",
    "# Withings_Activity_API = 'https://wbsapi.withings.net/v2/measure?action=getactivity'\n",
    "\n",
    "# PARAMS = {'startdateymd': date1,\n",
    "#           'enddateymd' : date2\n",
    "#          }\n",
    "\n",
    "# # sending get request and saving the response as response object \n",
    "# r = requests.get(Withings_Activity_API,headers=HEADERS,params=PARAMS)\n",
    "\n",
    "# # extracting data in JSON format \n",
    "# data_Withings = r.json()\n",
    "# print (data_Withings)"
   ]
  },
  {
   "cell_type": "markdown",
   "metadata": {},
   "source": [
    "### OTHER FITNESS TRACKER API"
   ]
  }
 ],
 "metadata": {
  "kernelspec": {
   "display_name": "Python 3",
   "language": "python",
   "name": "python3"
  },
  "language_info": {
   "codemirror_mode": {
    "name": "ipython",
    "version": 3
   },
   "file_extension": ".py",
   "mimetype": "text/x-python",
   "name": "python",
   "nbconvert_exporter": "python",
   "pygments_lexer": "ipython3",
   "version": "3.7.7"
  }
 },
 "nbformat": 4,
 "nbformat_minor": 4
}
