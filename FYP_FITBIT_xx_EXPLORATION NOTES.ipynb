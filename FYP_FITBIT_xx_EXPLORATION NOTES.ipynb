{
 "cells": [
  {
   "cell_type": "markdown",
   "metadata": {},
   "source": [
    "# Final Year Project - Intelligent Health Monitoring System\n",
    "#### by: Koo Chia Meng, A0165275Y"
   ]
  },
  {
   "cell_type": "markdown",
   "metadata": {},
   "source": [
    "### EXPLORATION NOTES (NOT FOR USE)"
   ]
  },
  {
   "cell_type": "markdown",
   "metadata": {},
   "source": [
    "#### Things we can visualise and compare:\n",
    "1. Activity levels (determined by Step counts, peak HRs or amount of time in higher heart rates zones)\n",
    "2. Health stats like (HR,RHR, derived HRV, calories and sleep in time series)\n",
    "\n",
    "The insights gotten from this can be used to encourage users to be more active/ healthier, to achieve the goal of the Health monitoring. Proven in studies that it will improve.\n",
    "\n",
    "\n",
    "Basing on the fact that the more we exercise, the healthier we get, we can compare between Active or non-Active and generically how the health stats changes over time. (Based on one person's data)\n",
    "\n",
    "(With multiple person data) We can identify a base state of a person's health in comparison and whether the person is getting healthier or not over time.\n",
    "\n",
    "(Future Application) Maybe an personalised app that can track these changes and give alerts / warnings, linking these stats to the onset of diseases (like \"pre-diabetes\", etc. something that we wont feel, but would slowly get worst if nothing had changed).\n",
    "\n",
    "The main aim of the project is to involve minimal domain experts in real life and minimum intrusion/ disruption to the user.\n",
    "\n",
    "\n",
    "We also check/verified the following:\n",
    "1. The acurracy of data\n",
    "2. What we can get out of the data\n",
    "\n",
    "\n",
    "#### Updates So Far:\n",
    "- Obtained more data from PERSON1-me (~4 months worth), splitting into different months\n",
    "- tried using IQR and Z-Score to exclude outliers\n",
    "- Histogram to see distribution and what to exclude, maybe can be used for identifying the baseline.\n",
    "- touchup of the previous graphs to make it more informative.\n",
    "- tried using percentage change to check for correlation\n",
    "- Sub-grouping and CHI-Square test for independence (still exploring)\n",
    "- HRV still in progress, after discussion.\n",
    "\n",
    "#### HRV calculated previously as follow (Data Limitation: HRV should be calculated between beats): \n",
    "1. Converting the Heart Rate reported every 5 seconds into P-P intervals for the 5 seconds window.\n",
    "2. Calculating the Mean, Max, Min and SD of the intervals\n",
    "    - if we apply the same 5 sec window for everyone, could SD be used?\n",
    "3. The 1st and 2nd degree rate of change was also calculated. \n",
    "    - More meaningful to tell a person's health state if calculated using data from rest, some paper states this feature can indicates the state of blood vessels.\n",
    "\n",
    "#### Time series Features for ML (Selection can be through TS fresh):\n",
    "- HR (Min, Max, SD, Dynamic Range, thru TS fresh)\n",
    "- derived HRV (d/dt PP_interval changes, Mean)\n",
    "- calories (total_calories)\n",
    "- sleep stats (pecentage sleep stage durations, sleep counts)\n",
    "\n",
    "#### Heart Rate Zones\n",
    "- need to use Percentage to normalise.\n",
    "\n",
    "\n",
    "#### Follow up:\n",
    "Single number combine, compute for a health state. Predict Healthcare values. BMI\n",
    "Something like an Early Warning Score in ER. Ask clinician.\n",
    "- Gathering Healthy levels for each stat from various studies then combine them into a score / scoring system."
   ]
  }
 ],
 "metadata": {
  "kernelspec": {
   "display_name": "Python 3",
   "language": "python",
   "name": "python3"
  },
  "language_info": {
   "codemirror_mode": {
    "name": "ipython",
    "version": 3
   },
   "file_extension": ".py",
   "mimetype": "text/x-python",
   "name": "python",
   "nbconvert_exporter": "python",
   "pygments_lexer": "ipython3",
   "version": "3.7.7"
  }
 },
 "nbformat": 4,
 "nbformat_minor": 2
}
